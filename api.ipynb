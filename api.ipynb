{
 "cells": [
  {
   "cell_type": "markdown",
   "id": "757f7b41",
   "metadata": {},
   "source": [
    "## API Requests\n",
    "1. Collect daily stock market data\n",
    "2. API Link - https://rapidapi.com/alphavantage/api/alpha-vantage"
   ]
  },
  {
   "cell_type": "code",
   "execution_count": 245,
   "id": "677190cc",
   "metadata": {},
   "outputs": [],
   "source": [
    "# Load the api key from secrets.toml\n",
    "import streamlit as st\n",
    "\n",
    "api_key = st.secrets[\"API_KEY\"]"
   ]
  },
  {
   "cell_type": "markdown",
   "id": "a6ee7888",
   "metadata": {},
   "source": [
    "### Search Endpoint\n",
    "Get symbol for State Bank of India"
   ]
  },
  {
   "cell_type": "code",
   "execution_count": 246,
   "id": "d74847bb",
   "metadata": {},
   "outputs": [
    {
     "data": {
      "text/plain": [
       "{'bestMatches': [{'1. symbol': 'SBIN.BSE',\n",
       "   '2. name': 'State Bank of India',\n",
       "   '3. type': 'Equity',\n",
       "   '4. region': 'India/Bombay',\n",
       "   '5. marketOpen': '09:15',\n",
       "   '6. marketClose': '15:30',\n",
       "   '7. timezone': 'UTC+5.5',\n",
       "   '8. currency': 'INR',\n",
       "   '9. matchScore': '1.0000'},\n",
       "  {'1. symbol': 'SBKFF',\n",
       "   '2. name': 'State Bank of India',\n",
       "   '3. type': 'Equity',\n",
       "   '4. region': 'United States',\n",
       "   '5. marketOpen': '09:30',\n",
       "   '6. marketClose': '16:00',\n",
       "   '7. timezone': 'UTC-04',\n",
       "   '8. currency': 'USD',\n",
       "   '9. matchScore': '1.0000'},\n",
       "  {'1. symbol': 'SID.FRK',\n",
       "   '2. name': 'State Bank of India',\n",
       "   '3. type': 'Equity',\n",
       "   '4. region': 'Frankfurt',\n",
       "   '5. marketOpen': '08:00',\n",
       "   '6. marketClose': '20:00',\n",
       "   '7. timezone': 'UTC+02',\n",
       "   '8. currency': 'EUR',\n",
       "   '9. matchScore': '1.0000'},\n",
       "  {'1. symbol': 'SBID.LON',\n",
       "   '2. name': 'State Bank of India GDR',\n",
       "   '3. type': 'Equity',\n",
       "   '4. region': 'United Kingdom',\n",
       "   '5. marketOpen': '08:00',\n",
       "   '6. marketClose': '16:30',\n",
       "   '7. timezone': 'UTC+01',\n",
       "   '8. currency': 'USD',\n",
       "   '9. matchScore': '0.9048'}]}"
      ]
     },
     "execution_count": 246,
     "metadata": {},
     "output_type": "execute_result"
    }
   ],
   "source": [
    "import requests\n",
    "\n",
    "url = \"https://alpha-vantage.p.rapidapi.com/query\"\n",
    "\n",
    "querystring = {\n",
    "    \"datatype\": \"json\",\n",
    "    \"keywords\": \"State Bank of India\",\n",
    "    \"function\": \"SYMBOL_SEARCH\",\n",
    "}\n",
    "\n",
    "headers = {\"x-rapidapi-key\": api_key, \"x-rapidapi-host\": \"alpha-vantage.p.rapidapi.com\"}\n",
    "\n",
    "response = requests.get(url, headers=headers, params=querystring)\n",
    "\n",
    "data = response.json()\n",
    "data"
   ]
  },
  {
   "cell_type": "code",
   "execution_count": 247,
   "id": "1a170340",
   "metadata": {},
   "outputs": [
    {
     "data": {
      "text/plain": [
       "dict_keys(['bestMatches'])"
      ]
     },
     "execution_count": 247,
     "metadata": {},
     "output_type": "execute_result"
    }
   ],
   "source": [
    "data.keys()"
   ]
  },
  {
   "cell_type": "code",
   "execution_count": 248,
   "id": "9c910ed9",
   "metadata": {},
   "outputs": [],
   "source": [
    "if \"bestMatches\" in data:\n",
    "    symbols = data[\"bestMatches\"]\n",
    "    symbols\n",
    "else:\n",
    "    print(\"Error:\", data.get(\"message\", \"Unexpected response\"))"
   ]
  },
  {
   "cell_type": "markdown",
   "id": "283f39b0",
   "metadata": {},
   "source": [
    "\n",
    "## I want to get data for SBIN.BSE\n",
    "#### Time Series Daily Endpoint"
   ]
  },
  {
   "cell_type": "code",
   "execution_count": 249,
   "id": "cb9aba7b",
   "metadata": {},
   "outputs": [
    {
     "data": {
      "text/plain": [
       "{'message': 'You have exceeded the rate limit per minute for your plan, BASIC, by the API provider'}"
      ]
     },
     "execution_count": 249,
     "metadata": {},
     "output_type": "execute_result"
    }
   ],
   "source": [
    "import requests\n",
    "\n",
    "url = \"https://alpha-vantage.p.rapidapi.com/query\"\n",
    "\n",
    "querystring = {\n",
    "    \"function\": \"TIME_SERIES_DAILY\",\n",
    "    \"symbol\": \"SBIN.BSE\",\n",
    "    \"outputsize\": \"compact\",\n",
    "    \"datatype\": \"json\",\n",
    "}\n",
    "\n",
    "headers = {\"x-rapidapi-key\": api_key, \"x-rapidapi-host\": \"alpha-vantage.p.rapidapi.com\"}\n",
    "\n",
    "response = requests.get(url, headers=headers, params=querystring)\n",
    "\n",
    "daily = response.json()\n",
    "daily"
   ]
  },
  {
   "cell_type": "code",
   "execution_count": 250,
   "id": "1ddd13fe",
   "metadata": {},
   "outputs": [
    {
     "data": {
      "text/plain": [
       "dict_keys(['message'])"
      ]
     },
     "execution_count": 250,
     "metadata": {},
     "output_type": "execute_result"
    }
   ],
   "source": [
    "daily.keys()"
   ]
  },
  {
   "cell_type": "code",
   "execution_count": 251,
   "id": "78c50dbb",
   "metadata": {},
   "outputs": [],
   "source": [
    "import pandas as pd"
   ]
  },
  {
   "cell_type": "code",
   "execution_count": 252,
   "id": "a1d33e18",
   "metadata": {},
   "outputs": [
    {
     "name": "stdout",
     "output_type": "stream",
     "text": [
      "Error: You have exceeded the rate limit per minute for your plan, BASIC, by the API provider\n"
     ]
    }
   ],
   "source": [
    "if \"Time Series (Daily)\" in daily:\n",
    "    daily1 = daily[\"Time Series (Daily)\"]\n",
    "    daily_df = pd.DataFrame(daily1).T\n",
    "    daily_df\n",
    "else:\n",
    "    print(\"Error:\", daily.get(\"message\", \"Unexpected response\"))"
   ]
  },
  {
   "cell_type": "code",
   "execution_count": 253,
   "id": "7352b97c",
   "metadata": {},
   "outputs": [
    {
     "name": "stdout",
     "output_type": "stream",
     "text": [
      "<class 'pandas.core.frame.DataFrame'>\n",
      "DatetimeIndex: 100 entries, 2025-08-20 to 2025-03-26\n",
      "Data columns (total 5 columns):\n",
      " #   Column     Non-Null Count  Dtype  \n",
      "---  ------     --------------  -----  \n",
      " 0   1. open    100 non-null    float64\n",
      " 1   2. high    100 non-null    float64\n",
      " 2   3. low     100 non-null    float64\n",
      " 3   4. close   100 non-null    float64\n",
      " 4   5. volume  100 non-null    float64\n",
      "dtypes: float64(5)\n",
      "memory usage: 4.7 KB\n"
     ]
    }
   ],
   "source": [
    "daily_df.info()"
   ]
  },
  {
   "cell_type": "code",
   "execution_count": 254,
   "id": "f632ca4f",
   "metadata": {},
   "outputs": [
    {
     "data": {
      "text/plain": [
       "1. open      float64\n",
       "2. high      float64\n",
       "3. low       float64\n",
       "4. close     float64\n",
       "5. volume    float64\n",
       "dtype: object"
      ]
     },
     "execution_count": 254,
     "metadata": {},
     "output_type": "execute_result"
    }
   ],
   "source": [
    "# Convert datatype to float and round off to 2 decimals\n",
    "daily_df = daily_df.astype(float).round(2)\n",
    "daily_df.dtypes"
   ]
  },
  {
   "cell_type": "code",
   "execution_count": 255,
   "id": "57c11af9",
   "metadata": {},
   "outputs": [
    {
     "data": {
      "text/html": [
       "<div>\n",
       "<style scoped>\n",
       "    .dataframe tbody tr th:only-of-type {\n",
       "        vertical-align: middle;\n",
       "    }\n",
       "\n",
       "    .dataframe tbody tr th {\n",
       "        vertical-align: top;\n",
       "    }\n",
       "\n",
       "    .dataframe thead th {\n",
       "        text-align: right;\n",
       "    }\n",
       "</style>\n",
       "<table border=\"1\" class=\"dataframe\">\n",
       "  <thead>\n",
       "    <tr style=\"text-align: right;\">\n",
       "      <th></th>\n",
       "      <th>1. open</th>\n",
       "      <th>2. high</th>\n",
       "      <th>3. low</th>\n",
       "      <th>4. close</th>\n",
       "      <th>5. volume</th>\n",
       "    </tr>\n",
       "    <tr>\n",
       "      <th>date</th>\n",
       "      <th></th>\n",
       "      <th></th>\n",
       "      <th></th>\n",
       "      <th></th>\n",
       "      <th></th>\n",
       "    </tr>\n",
       "  </thead>\n",
       "  <tbody>\n",
       "    <tr>\n",
       "      <th>2025-08-20</th>\n",
       "      <td>829.80</td>\n",
       "      <td>831.50</td>\n",
       "      <td>826.95</td>\n",
       "      <td>828.80</td>\n",
       "      <td>156440.0</td>\n",
       "    </tr>\n",
       "    <tr>\n",
       "      <th>2025-08-19</th>\n",
       "      <td>827.65</td>\n",
       "      <td>831.25</td>\n",
       "      <td>825.85</td>\n",
       "      <td>830.35</td>\n",
       "      <td>289674.0</td>\n",
       "    </tr>\n",
       "    <tr>\n",
       "      <th>2025-08-18</th>\n",
       "      <td>831.35</td>\n",
       "      <td>835.20</td>\n",
       "      <td>825.30</td>\n",
       "      <td>827.00</td>\n",
       "      <td>435823.0</td>\n",
       "    </tr>\n",
       "    <tr>\n",
       "      <th>2025-08-14</th>\n",
       "      <td>821.85</td>\n",
       "      <td>828.00</td>\n",
       "      <td>819.20</td>\n",
       "      <td>826.70</td>\n",
       "      <td>492882.0</td>\n",
       "    </tr>\n",
       "    <tr>\n",
       "      <th>2025-08-13</th>\n",
       "      <td>823.45</td>\n",
       "      <td>824.90</td>\n",
       "      <td>820.55</td>\n",
       "      <td>822.15</td>\n",
       "      <td>847012.0</td>\n",
       "    </tr>\n",
       "  </tbody>\n",
       "</table>\n",
       "</div>"
      ],
      "text/plain": [
       "            1. open  2. high  3. low  4. close  5. volume\n",
       "date                                                     \n",
       "2025-08-20   829.80   831.50  826.95    828.80   156440.0\n",
       "2025-08-19   827.65   831.25  825.85    830.35   289674.0\n",
       "2025-08-18   831.35   835.20  825.30    827.00   435823.0\n",
       "2025-08-14   821.85   828.00  819.20    826.70   492882.0\n",
       "2025-08-13   823.45   824.90  820.55    822.15   847012.0"
      ]
     },
     "execution_count": 255,
     "metadata": {},
     "output_type": "execute_result"
    }
   ],
   "source": [
    "daily_df.head()"
   ]
  },
  {
   "cell_type": "code",
   "execution_count": 256,
   "id": "e6acdc6d",
   "metadata": {},
   "outputs": [
    {
     "data": {
      "text/plain": [
       "DatetimeIndex(['2025-08-20', '2025-08-19', '2025-08-18', '2025-08-14',\n",
       "               '2025-08-13', '2025-08-12', '2025-08-11', '2025-08-08',\n",
       "               '2025-08-07', '2025-08-06', '2025-08-05', '2025-08-04',\n",
       "               '2025-08-01', '2025-07-31', '2025-07-30', '2025-07-29',\n",
       "               '2025-07-28', '2025-07-25', '2025-07-24', '2025-07-23',\n",
       "               '2025-07-22', '2025-07-21', '2025-07-18', '2025-07-17',\n",
       "               '2025-07-16', '2025-07-15', '2025-07-14', '2025-07-11',\n",
       "               '2025-07-10', '2025-07-09', '2025-07-08', '2025-07-07',\n",
       "               '2025-07-04', '2025-07-03', '2025-07-02', '2025-07-01',\n",
       "               '2025-06-30', '2025-06-27', '2025-06-26', '2025-06-25',\n",
       "               '2025-06-24', '2025-06-23', '2025-06-20', '2025-06-19',\n",
       "               '2025-06-18', '2025-06-17', '2025-06-16', '2025-06-13',\n",
       "               '2025-06-12', '2025-06-11', '2025-06-10', '2025-06-09',\n",
       "               '2025-06-06', '2025-06-05', '2025-06-04', '2025-06-03',\n",
       "               '2025-06-02', '2025-05-30', '2025-05-29', '2025-05-28',\n",
       "               '2025-05-27', '2025-05-26', '2025-05-23', '2025-05-22',\n",
       "               '2025-05-21', '2025-05-20', '2025-05-19', '2025-05-16',\n",
       "               '2025-05-15', '2025-05-14', '2025-05-13', '2025-05-12',\n",
       "               '2025-05-09', '2025-05-08', '2025-05-07', '2025-05-06',\n",
       "               '2025-05-05', '2025-05-02', '2025-04-30', '2025-04-29',\n",
       "               '2025-04-28', '2025-04-25', '2025-04-24', '2025-04-23',\n",
       "               '2025-04-22', '2025-04-21', '2025-04-17', '2025-04-16',\n",
       "               '2025-04-15', '2025-04-11', '2025-04-09', '2025-04-08',\n",
       "               '2025-04-07', '2025-04-04', '2025-04-03', '2025-04-02',\n",
       "               '2025-04-01', '2025-03-28', '2025-03-27', '2025-03-26'],\n",
       "              dtype='datetime64[ns]', name='date', freq=None)"
      ]
     },
     "execution_count": 256,
     "metadata": {},
     "output_type": "execute_result"
    }
   ],
   "source": [
    "daily_df.index"
   ]
  },
  {
   "cell_type": "code",
   "execution_count": 257,
   "id": "a6cf5e03",
   "metadata": {},
   "outputs": [],
   "source": [
    "# Convert the index to datetime\n",
    "daily_df.index = pd.to_datetime(daily_df.index)"
   ]
  },
  {
   "cell_type": "code",
   "execution_count": 258,
   "id": "c81b1862",
   "metadata": {},
   "outputs": [
    {
     "data": {
      "text/plain": [
       "DatetimeIndex(['2025-08-20', '2025-08-19', '2025-08-18', '2025-08-14',\n",
       "               '2025-08-13', '2025-08-12', '2025-08-11', '2025-08-08',\n",
       "               '2025-08-07', '2025-08-06', '2025-08-05', '2025-08-04',\n",
       "               '2025-08-01', '2025-07-31', '2025-07-30', '2025-07-29',\n",
       "               '2025-07-28', '2025-07-25', '2025-07-24', '2025-07-23',\n",
       "               '2025-07-22', '2025-07-21', '2025-07-18', '2025-07-17',\n",
       "               '2025-07-16', '2025-07-15', '2025-07-14', '2025-07-11',\n",
       "               '2025-07-10', '2025-07-09', '2025-07-08', '2025-07-07',\n",
       "               '2025-07-04', '2025-07-03', '2025-07-02', '2025-07-01',\n",
       "               '2025-06-30', '2025-06-27', '2025-06-26', '2025-06-25',\n",
       "               '2025-06-24', '2025-06-23', '2025-06-20', '2025-06-19',\n",
       "               '2025-06-18', '2025-06-17', '2025-06-16', '2025-06-13',\n",
       "               '2025-06-12', '2025-06-11', '2025-06-10', '2025-06-09',\n",
       "               '2025-06-06', '2025-06-05', '2025-06-04', '2025-06-03',\n",
       "               '2025-06-02', '2025-05-30', '2025-05-29', '2025-05-28',\n",
       "               '2025-05-27', '2025-05-26', '2025-05-23', '2025-05-22',\n",
       "               '2025-05-21', '2025-05-20', '2025-05-19', '2025-05-16',\n",
       "               '2025-05-15', '2025-05-14', '2025-05-13', '2025-05-12',\n",
       "               '2025-05-09', '2025-05-08', '2025-05-07', '2025-05-06',\n",
       "               '2025-05-05', '2025-05-02', '2025-04-30', '2025-04-29',\n",
       "               '2025-04-28', '2025-04-25', '2025-04-24', '2025-04-23',\n",
       "               '2025-04-22', '2025-04-21', '2025-04-17', '2025-04-16',\n",
       "               '2025-04-15', '2025-04-11', '2025-04-09', '2025-04-08',\n",
       "               '2025-04-07', '2025-04-04', '2025-04-03', '2025-04-02',\n",
       "               '2025-04-01', '2025-03-28', '2025-03-27', '2025-03-26'],\n",
       "              dtype='datetime64[ns]', name='date', freq=None)"
      ]
     },
     "execution_count": 258,
     "metadata": {},
     "output_type": "execute_result"
    }
   ],
   "source": [
    "daily_df.index"
   ]
  },
  {
   "cell_type": "code",
   "execution_count": 259,
   "id": "87705a6e",
   "metadata": {},
   "outputs": [
    {
     "data": {
      "text/html": [
       "<div>\n",
       "<style scoped>\n",
       "    .dataframe tbody tr th:only-of-type {\n",
       "        vertical-align: middle;\n",
       "    }\n",
       "\n",
       "    .dataframe tbody tr th {\n",
       "        vertical-align: top;\n",
       "    }\n",
       "\n",
       "    .dataframe thead th {\n",
       "        text-align: right;\n",
       "    }\n",
       "</style>\n",
       "<table border=\"1\" class=\"dataframe\">\n",
       "  <thead>\n",
       "    <tr style=\"text-align: right;\">\n",
       "      <th></th>\n",
       "      <th>1. open</th>\n",
       "      <th>2. high</th>\n",
       "      <th>3. low</th>\n",
       "      <th>4. close</th>\n",
       "      <th>5. volume</th>\n",
       "    </tr>\n",
       "    <tr>\n",
       "      <th>date</th>\n",
       "      <th></th>\n",
       "      <th></th>\n",
       "      <th></th>\n",
       "      <th></th>\n",
       "      <th></th>\n",
       "    </tr>\n",
       "  </thead>\n",
       "  <tbody>\n",
       "    <tr>\n",
       "      <th>2025-08-20</th>\n",
       "      <td>829.80</td>\n",
       "      <td>831.50</td>\n",
       "      <td>826.95</td>\n",
       "      <td>828.80</td>\n",
       "      <td>156440.0</td>\n",
       "    </tr>\n",
       "    <tr>\n",
       "      <th>2025-08-19</th>\n",
       "      <td>827.65</td>\n",
       "      <td>831.25</td>\n",
       "      <td>825.85</td>\n",
       "      <td>830.35</td>\n",
       "      <td>289674.0</td>\n",
       "    </tr>\n",
       "    <tr>\n",
       "      <th>2025-08-18</th>\n",
       "      <td>831.35</td>\n",
       "      <td>835.20</td>\n",
       "      <td>825.30</td>\n",
       "      <td>827.00</td>\n",
       "      <td>435823.0</td>\n",
       "    </tr>\n",
       "    <tr>\n",
       "      <th>2025-08-14</th>\n",
       "      <td>821.85</td>\n",
       "      <td>828.00</td>\n",
       "      <td>819.20</td>\n",
       "      <td>826.70</td>\n",
       "      <td>492882.0</td>\n",
       "    </tr>\n",
       "    <tr>\n",
       "      <th>2025-08-13</th>\n",
       "      <td>823.45</td>\n",
       "      <td>824.90</td>\n",
       "      <td>820.55</td>\n",
       "      <td>822.15</td>\n",
       "      <td>847012.0</td>\n",
       "    </tr>\n",
       "  </tbody>\n",
       "</table>\n",
       "</div>"
      ],
      "text/plain": [
       "            1. open  2. high  3. low  4. close  5. volume\n",
       "date                                                     \n",
       "2025-08-20   829.80   831.50  826.95    828.80   156440.0\n",
       "2025-08-19   827.65   831.25  825.85    830.35   289674.0\n",
       "2025-08-18   831.35   835.20  825.30    827.00   435823.0\n",
       "2025-08-14   821.85   828.00  819.20    826.70   492882.0\n",
       "2025-08-13   823.45   824.90  820.55    822.15   847012.0"
      ]
     },
     "execution_count": 259,
     "metadata": {},
     "output_type": "execute_result"
    }
   ],
   "source": [
    "daily_df.index.name = \"date\"\n",
    "daily_df.head()"
   ]
  },
  {
   "cell_type": "code",
   "execution_count": 260,
   "id": "86b7ba61",
   "metadata": {},
   "outputs": [
    {
     "data": {
      "text/plain": [
       "(100, 5)"
      ]
     },
     "execution_count": 260,
     "metadata": {},
     "output_type": "execute_result"
    }
   ],
   "source": [
    "daily_df.shape"
   ]
  },
  {
   "cell_type": "code",
   "execution_count": 261,
   "id": "c4b6db55",
   "metadata": {},
   "outputs": [],
   "source": [
    "# Save above in csv file\n",
    "daily_df.to_csv(\"sbin.csv\")"
   ]
  },
  {
   "cell_type": "code",
   "execution_count": 262,
   "id": "d55a4dd3",
   "metadata": {},
   "outputs": [
    {
     "data": {
      "application/vnd.plotly.v1+json": {
       "config": {
        "plotlyServerURL": "https://plot.ly"
       },
       "data": [
        {
         "close": {
          "bdata": "ZmZmZmbmiUDNzMzMzPKJQAAAAAAA2IlAmpmZmZnViUAzMzMzM7GJQGZmZmZmpIlAZmZmZmbCiUBmZmZmZiSJQAAAAAAAKolAMzMzMzMpiUCamZmZmQWJQDMzMzMz3YhAmpmZmZnPiECamZmZmeOIQM3MzMzMDolAMzMzMzP3iEAzMzMzM+mIQAAAAAAANIlAzczMzMx+iUAAAAAAAKaJQAAAAAAAeIlAmpmZmZnBiUBmZmZmZrqJQM3MzMzM5IlAZmZmZmb8iUAAAAAAAIaJQGZmZmZmSolAAAAAAABEiUAAAAAAAECJQM3MzMzMVolAZmZmZmZmiUCamZmZmTeJQM3MzMzMXolAzczMzMw4iUCamZmZmWmJQAAAAAAAoolAzczMzMyiiUAzMzMzMyuJQAAAAAAA6IhAzczMzMwAiUAAAAAAANqIQDMzMzMzsYhAAAAAAADgiECamZmZmYWIQAAAAAAAvohAmpmZmZnBiEDNzMzMzMaIQDMzMzMzw4hAMzMzMzMtiUCamZmZmXeJQGZmZmZmiIlAZmZmZmagiUDNzMzMzGaJQM3MzMzMMIlAmpmZmZkziUAAAAAAAE6JQJqZmZmZa4lAMzMzMzNjiUBmZmZmZuqIQJqZmZmZ44hAZmZmZmbOiEDNzMzMzNKIQJqZmZmZs4hAzczMzMyKiECamZmZmZmIQM3MzMzMiohAMzMzMzPXiEDNzMzMzL6IQJqZmZmZPYlAzczMzMwCiUAzMzMzMw+JQM3MzMzMDIlAMzMzMzNbiEAAAAAAAAaIQDMzMzMzQYhAMzMzMzMxiEAAAAAAALCIQGZmZmZmAIlAMzMzMzOhiEAAAAAAAF6JQM3MzMzMjIlAAAAAAAD2iECamZmZmWmJQGZmZmZmaolAmpmZmZmziUDNzMzMzISJQM3MzMzM6IhAAAAAAAAeiEBmZmZmZtqHQGZmZmZmkIdAZmZmZmYwh0AzMzMzMwOIQAAAAAAAVodAZmZmZmb+h0CamZmZmVmIQM3MzMzMPohAAAAAAAAciEDNzMzMzByIQDMzMzMzI4hAzczMzMzah0A=",
          "dtype": "f8"
         },
         "high": {
          "bdata": "AAAAAAD8iUAAAAAAAPqJQJqZmZmZGYpAAAAAAADgiUAzMzMzM8eJQM3MzMzMzIlAmpmZmZnHiUCamZmZmT+JQAAAAAAANIlAAAAAAABQiUAzMzMzMx2JQJqZmZmZ64hAAAAAAAAGiUDNzMzMzByJQDMzMzMzG4lAmpmZmZkBiUCamZmZmUmJQAAAAAAAmIlAmpmZmZmviUAAAAAAAMiJQAAAAAAA6IlAMzMzMzPbiUAzMzMzMwOKQGZmZmZmUopAAAAAAAAQikAAAAAAAKiJQM3MzMzMfIlAzczMzMxkiUAAAAAAAHyJQAAAAAAAYolAzczMzMxuiUBmZmZmZmaJQAAAAAAAbIlAAAAAAAB4iUDNzMzMzMKJQJqZmZmZx4lAAAAAAACoiUAAAAAAAEyJQJqZmZmZG4lAAAAAAAAoiUAAAAAAADSJQM3MzMzM1IhAzczMzMz4iECamZmZmcmIQAAAAAAA3IhAZmZmZmb2iEDNzMzMzNqIQJqZmZmZ4YhAZmZmZmaEiUDNzMzMzKSJQJqZmZmZr4lAMzMzMzPDiUCamZmZmYOJQDMzMzMzX4lAmpmZmZl/iUCamZmZmY+JQAAAAAAAtIlAzczMzMxyiUAAAAAAAACJQM3MzMzM9ohAMzMzMzMJiUBmZmZmZuyIQGZmZmZm1ohAMzMzMzOniECamZmZmbWIQDMzMzMz/YhAzczMzMwKiUBmZmZmZiaJQAAAAAAATIlAmpmZmZk7iUCamZmZmT2JQDMzMzMzH4lAMzMzMzNriEAAAAAAAJSIQGZmZmZmdIhAAAAAAAD4iEDNzMzMzPiIQJqZmZmZF4lAzczMzMxmiUAAAAAAAOiJQAAAAAAAtIlAzczMzMyYiUAzMzMzM5mJQAAAAAAA8IlAMzMzMzMbikAAAAAAAMKJQAAAAAAACIlAZmZmZmY0iEDNzMzMzBSIQJqZmZmZv4dAAAAAAAAIiEDNzMzMzDCIQJqZmZmZh4dAAAAAAAByiEDNzMzMzIaIQGZmZmZmRohAAAAAAAB0iECamZmZmVOIQAAAAAAAOIhAmpmZmZk/iEA=",
          "dtype": "f8"
         },
         "low": {
          "bdata": "mpmZmZnXiUDNzMzMzM6JQGZmZmZmyolAmpmZmZmZiUBmZmZmZqSJQAAAAAAAoIlAAAAAAAA4iUDNzMzMzLCIQGZmZmZmyohAAAAAAAD4iEAzMzMzM92IQGZmZmZmlIhAmpmZmZm/iECamZmZmcOIQAAAAAAA4ohAzczMzMzIiEAAAAAAAOCIQGZmZmZmLIlAMzMzMzNViUAzMzMzM1uJQAAAAAAAcIlAmpmZmZmPiUBmZmZmZqCJQDMzMzMz0YlAMzMzMzN5iUCamZmZmVGJQAAAAAAAQIlAAAAAAAAkiUBmZmZmZjiJQM3MzMzMSIlAAAAAAAAsiUCamZmZmSmJQJqZmZmZIYlAAAAAAAAwiUDNzMzMzEiJQAAAAAAAaolAZmZmZmY4iUAzMzMzMxOJQAAAAAAAvIhAzczMzMzgiEDNzMzMzMyIQJqZmZmZo4hAZmZmZmaSiEAAAAAAAGyIQM3MzMzMoohAAAAAAAC2iEDNzMzMzJKIQDMzMzMzp4hAAAAAAAAKiUAzMzMzM2eJQDMzMzMzdYlAzczMzMx8iUAzMzMzMxeJQAAAAAAAGIlAAAAAAAAoiUCamZmZmSmJQM3MzMzMSIlAAAAAAADGiEAzMzMzM7uIQDMzMzMzx4hAAAAAAACuiEBmZmZmZqqIQDMzMzMzk4hAzczMzMxkiEAzMzMzM1uIQAAAAAAAgIhAzczMzMy+iEDNzMzMzLSIQGZmZmZm1IhAAAAAAADkiEAAAAAAAOqIQM3MzMzMyIhAAAAAAACah0AAAAAAAOiHQAAAAAAA0odAMzMzMzMZiEAzMzMzM32IQAAAAAAAqohAmpmZmZmDiEAAAAAAAEaJQGZmZmZm4ohAzczMzMyYiEAAAAAAAFiJQJqZmZmZT4lAZmZmZmZuiUDNzMzMzAyJQAAAAAAA+odAMzMzMzPDh0AzMzMzM62HQDMzMzMzUYdAAAAAAAAmh0AAAAAAAKiHQJqZmZmZ14ZAAAAAAADoh0AAAAAAABCIQGZmZmZm4odAZmZmZmbYh0AAAAAAAACIQAAAAAAAxodAZmZmZmbOh0A=",
          "dtype": "f8"
         },
         "open": {
          "bdata": "ZmZmZmbuiUAzMzMzM92JQM3MzMzM+olAzczMzMyuiUCamZmZmbuJQGZmZmZmwolAAAAAAAA4iUAAAAAAACiJQM3MzMzMCIlAAAAAAAAIiUAzMzMzM92IQAAAAAAA2IhAAAAAAADkiEAzMzMzM+WIQM3MzMzM/ohAzczMzMzaiECamZmZmUeJQM3MzMzMcolAAAAAAACeiUCamZmZmXmJQAAAAAAA6IlAAAAAAAC8iUAzMzMzMwOKQAAAAAAAOIpAAAAAAACEiUCamZmZmVGJQDMzMzMzU4lAAAAAAABAiUAAAAAAAGCJQAAAAAAAUIlAmpmZmZlHiUBmZmZmZmaJQAAAAAAAUolAAAAAAABoiUCamZmZmaWJQM3MzMzMoolAmpmZmZlHiUAAAAAAADCJQJqZmZmZFYlAAAAAAAD4iEAAAAAAAPSIQJqZmZmZsYhAmpmZmZmfiEDNzMzMzMaIQM3MzMzMwIhAAAAAAADMiEBmZmZmZsSIQAAAAAAArohAAAAAAACAiUBmZmZmZoiJQJqZmZmZr4lAzczMzMyIiUDNzMzMzDCJQAAAAAAASIlAzczMzMx4iUAzMzMzM4eJQM3MzMzMYIlAzczMzMzqiEDNzMzMzOiIQAAAAAAA0IhAMzMzMzPRiECamZmZmbuIQJqZmZmZmYhAMzMzMzOniEAAAAAAAJSIQAAAAAAA8ohAmpmZmZnHiEBmZmZmZiaJQM3MzMzMJolAAAAAAAAqiUCamZmZmQOJQM3MzMzM/ohAAAAAAACah0AAAAAAAFCIQAAAAAAA0odAmpmZmZnBiECamZmZmYeIQGZmZmZmwIhAzczMzMxmiUAAAAAAAKCJQGZmZmZm4ohAzczMzMxsiUBmZmZmZmqJQM3MzMzMzolAmpmZmZmpiUAAAAAAABiJQM3MzMzMGIhAAAAAAADgh0BmZmZmZgCIQJqZmZmZv4dAZmZmZmYGiEAAAAAAAKiHQGZmZmZm4oZAmpmZmZlZiEAAAAAAABCIQAAAAAAAIIhAmpmZmZn/h0CamZmZmRWIQJqZmZmZ1YdAZmZmZmYSiEA=",
          "dtype": "f8"
         },
         "type": "candlestick",
         "x": [
          "2025-08-20T00:00:00.000000000",
          "2025-08-19T00:00:00.000000000",
          "2025-08-18T00:00:00.000000000",
          "2025-08-14T00:00:00.000000000",
          "2025-08-13T00:00:00.000000000",
          "2025-08-12T00:00:00.000000000",
          "2025-08-11T00:00:00.000000000",
          "2025-08-08T00:00:00.000000000",
          "2025-08-07T00:00:00.000000000",
          "2025-08-06T00:00:00.000000000",
          "2025-08-05T00:00:00.000000000",
          "2025-08-04T00:00:00.000000000",
          "2025-08-01T00:00:00.000000000",
          "2025-07-31T00:00:00.000000000",
          "2025-07-30T00:00:00.000000000",
          "2025-07-29T00:00:00.000000000",
          "2025-07-28T00:00:00.000000000",
          "2025-07-25T00:00:00.000000000",
          "2025-07-24T00:00:00.000000000",
          "2025-07-23T00:00:00.000000000",
          "2025-07-22T00:00:00.000000000",
          "2025-07-21T00:00:00.000000000",
          "2025-07-18T00:00:00.000000000",
          "2025-07-17T00:00:00.000000000",
          "2025-07-16T00:00:00.000000000",
          "2025-07-15T00:00:00.000000000",
          "2025-07-14T00:00:00.000000000",
          "2025-07-11T00:00:00.000000000",
          "2025-07-10T00:00:00.000000000",
          "2025-07-09T00:00:00.000000000",
          "2025-07-08T00:00:00.000000000",
          "2025-07-07T00:00:00.000000000",
          "2025-07-04T00:00:00.000000000",
          "2025-07-03T00:00:00.000000000",
          "2025-07-02T00:00:00.000000000",
          "2025-07-01T00:00:00.000000000",
          "2025-06-30T00:00:00.000000000",
          "2025-06-27T00:00:00.000000000",
          "2025-06-26T00:00:00.000000000",
          "2025-06-25T00:00:00.000000000",
          "2025-06-24T00:00:00.000000000",
          "2025-06-23T00:00:00.000000000",
          "2025-06-20T00:00:00.000000000",
          "2025-06-19T00:00:00.000000000",
          "2025-06-18T00:00:00.000000000",
          "2025-06-17T00:00:00.000000000",
          "2025-06-16T00:00:00.000000000",
          "2025-06-13T00:00:00.000000000",
          "2025-06-12T00:00:00.000000000",
          "2025-06-11T00:00:00.000000000",
          "2025-06-10T00:00:00.000000000",
          "2025-06-09T00:00:00.000000000",
          "2025-06-06T00:00:00.000000000",
          "2025-06-05T00:00:00.000000000",
          "2025-06-04T00:00:00.000000000",
          "2025-06-03T00:00:00.000000000",
          "2025-06-02T00:00:00.000000000",
          "2025-05-30T00:00:00.000000000",
          "2025-05-29T00:00:00.000000000",
          "2025-05-28T00:00:00.000000000",
          "2025-05-27T00:00:00.000000000",
          "2025-05-26T00:00:00.000000000",
          "2025-05-23T00:00:00.000000000",
          "2025-05-22T00:00:00.000000000",
          "2025-05-21T00:00:00.000000000",
          "2025-05-20T00:00:00.000000000",
          "2025-05-19T00:00:00.000000000",
          "2025-05-16T00:00:00.000000000",
          "2025-05-15T00:00:00.000000000",
          "2025-05-14T00:00:00.000000000",
          "2025-05-13T00:00:00.000000000",
          "2025-05-12T00:00:00.000000000",
          "2025-05-09T00:00:00.000000000",
          "2025-05-08T00:00:00.000000000",
          "2025-05-07T00:00:00.000000000",
          "2025-05-06T00:00:00.000000000",
          "2025-05-05T00:00:00.000000000",
          "2025-05-02T00:00:00.000000000",
          "2025-04-30T00:00:00.000000000",
          "2025-04-29T00:00:00.000000000",
          "2025-04-28T00:00:00.000000000",
          "2025-04-25T00:00:00.000000000",
          "2025-04-24T00:00:00.000000000",
          "2025-04-23T00:00:00.000000000",
          "2025-04-22T00:00:00.000000000",
          "2025-04-21T00:00:00.000000000",
          "2025-04-17T00:00:00.000000000",
          "2025-04-16T00:00:00.000000000",
          "2025-04-15T00:00:00.000000000",
          "2025-04-11T00:00:00.000000000",
          "2025-04-09T00:00:00.000000000",
          "2025-04-08T00:00:00.000000000",
          "2025-04-07T00:00:00.000000000",
          "2025-04-04T00:00:00.000000000",
          "2025-04-03T00:00:00.000000000",
          "2025-04-02T00:00:00.000000000",
          "2025-04-01T00:00:00.000000000",
          "2025-03-28T00:00:00.000000000",
          "2025-03-27T00:00:00.000000000",
          "2025-03-26T00:00:00.000000000"
         ]
        }
       ],
       "layout": {
        "height": 800,
        "template": {
         "data": {
          "candlestick": [
           {
            "decreasing": {
             "line": {
              "color": "#000033"
             }
            },
            "increasing": {
             "line": {
              "color": "#000032"
             }
            },
            "type": "candlestick"
           }
          ],
          "contour": [
           {
            "colorscale": [
             [
              0,
              "#000011"
             ],
             [
              0.1111111111111111,
              "#000012"
             ],
             [
              0.2222222222222222,
              "#000013"
             ],
             [
              0.3333333333333333,
              "#000014"
             ],
             [
              0.4444444444444444,
              "#000015"
             ],
             [
              0.5555555555555556,
              "#000016"
             ],
             [
              0.6666666666666666,
              "#000017"
             ],
             [
              0.7777777777777778,
              "#000018"
             ],
             [
              0.8888888888888888,
              "#000019"
             ],
             [
              1,
              "#000020"
             ]
            ],
            "type": "contour"
           }
          ],
          "contourcarpet": [
           {
            "colorscale": [
             [
              0,
              "#000011"
             ],
             [
              0.1111111111111111,
              "#000012"
             ],
             [
              0.2222222222222222,
              "#000013"
             ],
             [
              0.3333333333333333,
              "#000014"
             ],
             [
              0.4444444444444444,
              "#000015"
             ],
             [
              0.5555555555555556,
              "#000016"
             ],
             [
              0.6666666666666666,
              "#000017"
             ],
             [
              0.7777777777777778,
              "#000018"
             ],
             [
              0.8888888888888888,
              "#000019"
             ],
             [
              1,
              "#000020"
             ]
            ],
            "type": "contourcarpet"
           }
          ],
          "heatmap": [
           {
            "colorscale": [
             [
              0,
              "#000011"
             ],
             [
              0.1111111111111111,
              "#000012"
             ],
             [
              0.2222222222222222,
              "#000013"
             ],
             [
              0.3333333333333333,
              "#000014"
             ],
             [
              0.4444444444444444,
              "#000015"
             ],
             [
              0.5555555555555556,
              "#000016"
             ],
             [
              0.6666666666666666,
              "#000017"
             ],
             [
              0.7777777777777778,
              "#000018"
             ],
             [
              0.8888888888888888,
              "#000019"
             ],
             [
              1,
              "#000020"
             ]
            ],
            "type": "heatmap"
           }
          ],
          "histogram2d": [
           {
            "colorscale": [
             [
              0,
              "#000011"
             ],
             [
              0.1111111111111111,
              "#000012"
             ],
             [
              0.2222222222222222,
              "#000013"
             ],
             [
              0.3333333333333333,
              "#000014"
             ],
             [
              0.4444444444444444,
              "#000015"
             ],
             [
              0.5555555555555556,
              "#000016"
             ],
             [
              0.6666666666666666,
              "#000017"
             ],
             [
              0.7777777777777778,
              "#000018"
             ],
             [
              0.8888888888888888,
              "#000019"
             ],
             [
              1,
              "#000020"
             ]
            ],
            "type": "histogram2d"
           }
          ],
          "icicle": [
           {
            "textfont": {
             "color": "white"
            },
            "type": "icicle"
           }
          ],
          "sankey": [
           {
            "textfont": {
             "color": "#000036"
            },
            "type": "sankey"
           }
          ],
          "scatter": [
           {
            "marker": {
             "line": {
              "width": 0
             }
            },
            "type": "scatter"
           }
          ],
          "table": [
           {
            "cells": {
             "fill": {
              "color": "#000038"
             },
             "font": {
              "color": "#000037"
             },
             "line": {
              "color": "#000039"
             }
            },
            "header": {
             "fill": {
              "color": "#000040"
             },
             "font": {
              "color": "#000036"
             },
             "line": {
              "color": "#000039"
             }
            },
            "type": "table"
           }
          ],
          "waterfall": [
           {
            "connector": {
             "line": {
              "color": "#000036",
              "width": 2
             }
            },
            "decreasing": {
             "marker": {
              "color": "#000033"
             }
            },
            "increasing": {
             "marker": {
              "color": "#000032"
             }
            },
            "totals": {
             "marker": {
              "color": "#000034"
             }
            },
            "type": "waterfall"
           }
          ]
         },
         "layout": {
          "coloraxis": {
           "colorscale": [
            [
             0,
             "#000011"
            ],
            [
             0.1111111111111111,
             "#000012"
            ],
            [
             0.2222222222222222,
             "#000013"
            ],
            [
             0.3333333333333333,
             "#000014"
            ],
            [
             0.4444444444444444,
             "#000015"
            ],
            [
             0.5555555555555556,
             "#000016"
            ],
            [
             0.6666666666666666,
             "#000017"
            ],
            [
             0.7777777777777778,
             "#000018"
            ],
            [
             0.8888888888888888,
             "#000019"
            ],
            [
             1,
             "#000020"
            ]
           ]
          },
          "colorscale": {
           "diverging": [
            [
             0,
             "#000021"
            ],
            [
             0.1,
             "#000022"
            ],
            [
             0.2,
             "#000023"
            ],
            [
             0.3,
             "#000024"
            ],
            [
             0.4,
             "#000025"
            ],
            [
             0.5,
             "#000026"
            ],
            [
             0.6,
             "#000027"
            ],
            [
             0.7,
             "#000028"
            ],
            [
             0.8,
             "#000029"
            ],
            [
             0.9,
             "#000030"
            ],
            [
             1,
             "#000031"
            ]
           ],
           "sequential": [
            [
             0,
             "#000011"
            ],
            [
             0.1111111111111111,
             "#000012"
            ],
            [
             0.2222222222222222,
             "#000013"
            ],
            [
             0.3333333333333333,
             "#000014"
            ],
            [
             0.4444444444444444,
             "#000015"
            ],
            [
             0.5555555555555556,
             "#000016"
            ],
            [
             0.6666666666666666,
             "#000017"
            ],
            [
             0.7777777777777778,
             "#000018"
            ],
            [
             0.8888888888888888,
             "#000019"
            ],
            [
             1,
             "#000020"
            ]
           ],
           "sequentialminus": [
            [
             0,
             "#000011"
            ],
            [
             0.1111111111111111,
             "#000012"
            ],
            [
             0.2222222222222222,
             "#000013"
            ],
            [
             0.3333333333333333,
             "#000014"
            ],
            [
             0.4444444444444444,
             "#000015"
            ],
            [
             0.5555555555555556,
             "#000016"
            ],
            [
             0.6666666666666666,
             "#000017"
            ],
            [
             0.7777777777777778,
             "#000018"
            ],
            [
             0.8888888888888888,
             "#000019"
            ],
            [
             1,
             "#000020"
            ]
           ]
          },
          "colorway": [
           "#000001",
           "#000002",
           "#000003",
           "#000004",
           "#000005",
           "#000006",
           "#000007",
           "#000008",
           "#000009",
           "#000010"
          ]
         }
        },
        "title": {
         "text": "SBIN.BSE Stock price"
        },
        "width": 1200
       }
      }
     },
     "metadata": {},
     "output_type": "display_data"
    }
   ],
   "source": [
    "import plotly.graph_objects as go\n",
    "\n",
    "fig = go.Figure(\n",
    "    data=[\n",
    "        go.Candlestick(\n",
    "            x=daily_df.index,\n",
    "            open=daily_df[\"1. open\"],\n",
    "            high=daily_df[\"2. high\"],\n",
    "            low=daily_df[\"3. low\"],\n",
    "            close=daily_df[\"4. close\"],\n",
    "        )\n",
    "    ]\n",
    ")\n",
    "\n",
    "fig.update_layout(width=1200, height=800, title=\"SBIN.BSE Stock price\")\n",
    "\n",
    "fig.show()"
   ]
  },
  {
   "cell_type": "markdown",
   "id": "e44cdf90",
   "metadata": {},
   "source": [
    "### Create a class to get data for any stock\n"
   ]
  },
  {
   "cell_type": "code",
   "execution_count": 263,
   "id": "d3a4680f",
   "metadata": {},
   "outputs": [],
   "source": [
    "import streamlit as st\n",
    "import requests\n",
    "import pandas as pd\n",
    "import plotly.graph_objects as go"
   ]
  },
  {
   "cell_type": "code",
   "execution_count": 264,
   "id": "45f5c915",
   "metadata": {},
   "outputs": [],
   "source": [
    "class StockData:\n",
    "\n",
    "    def __init__(self):\n",
    "        api_key = st.secrets[\"API_KEY\"]\n",
    "        self.url = \"https://alpha-vantage.p.rapidapi.com/query\"\n",
    "        self.headers = {\n",
    "            \"x-rapidapi-key\": api_key,\n",
    "            \"x-rapidapi-host\": \"alpha-vantage.p.rapidapi.com\",\n",
    "        }\n",
    "\n",
    "    def symbol_search(self, company: str):\n",
    "        querystring = {\n",
    "            \"datatype\": \"json\",\n",
    "            \"keywords\": company,\n",
    "            \"function\": \"SYMBOL_SEARCH\",\n",
    "        }\n",
    "        response = requests.get(self.url, headers=self.headers, params=querystring)\n",
    "        search = response.json()[\"bestMatches\"]\n",
    "        search_df = pd.DataFrame(search)\n",
    "        return search_df\n",
    "\n",
    "    def get_daily_data(self, symbol: str):\n",
    "        querystring = {\n",
    "            \"function\": \"TIME_SERIES_DAILY\",\n",
    "            \"symbol\": symbol,\n",
    "            \"outputsize\": \"compact\",\n",
    "            \"datatype\": \"json\",\n",
    "        }\n",
    "        response = requests.get(self.url, headers=self.headers, params=querystring)\n",
    "        daily = response.json()[\"Time Series (Daily)\"]\n",
    "        daily_df = pd.DataFrame(daily).T\n",
    "        daily_df = daily_df.astype(float)\n",
    "        daily_df.index = pd.to_datetime(daily_df.index)\n",
    "        daily_df.index.name = \"date\"\n",
    "        return daily_df\n",
    "\n",
    "    def plot_chart(self, data: pd.DataFrame):\n",
    "        fig = go.Figure(\n",
    "            data=[\n",
    "                go.Candlestick(\n",
    "                    x=data.index,\n",
    "                    open=data[\"1. open\"],\n",
    "                    high=data[\"2. high\"],\n",
    "                    low=data[\"3. low\"],\n",
    "                    close=data[\"4. close\"],\n",
    "                )\n",
    "            ]\n",
    "        )\n",
    "        fig.update_layout(width=1200, height=800)\n",
    "        return fig"
   ]
  },
  {
   "cell_type": "markdown",
   "id": "efae0151",
   "metadata": {},
   "source": [
    "### Get the data for HDFC Bank\n"
   ]
  },
  {
   "cell_type": "code",
   "execution_count": 265,
   "id": "80d5537e",
   "metadata": {},
   "outputs": [],
   "source": [
    "client = StockData()"
   ]
  },
  {
   "cell_type": "code",
   "execution_count": 266,
   "id": "52a7b4b5",
   "metadata": {},
   "outputs": [
    {
     "data": {
      "text/plain": [
       "__main__.StockData"
      ]
     },
     "execution_count": 266,
     "metadata": {},
     "output_type": "execute_result"
    }
   ],
   "source": [
    "type(client)"
   ]
  },
  {
   "cell_type": "code",
   "execution_count": 267,
   "id": "f43ea9a1",
   "metadata": {},
   "outputs": [
    {
     "name": "stdout",
     "output_type": "stream",
     "text": [
      "No matches found or API error.\n"
     ]
    }
   ],
   "source": [
    "try:\n",
    "    result = client.symbol_search(company=\"HDFC Bank\")\n",
    "    display(result)\n",
    "except KeyError:\n",
    "    print(\"No matches found or API error.\")"
   ]
  },
  {
   "cell_type": "code",
   "execution_count": 268,
   "id": "8b938335",
   "metadata": {},
   "outputs": [
    {
     "name": "stdout",
     "output_type": "stream",
     "text": [
      "Error: 'Time Series (Daily)'\n",
      "API response: https://alpha-vantage.p.rapidapi.com/query\n"
     ]
    }
   ],
   "source": [
    "try:\n",
    "    df_hdfc = client.get_daily_data(symbol=\"HDFCBANK.BSE\")\n",
    "    display(df_hdfc)\n",
    "except KeyError as e:\n",
    "    print(\"Error:\", e)\n",
    "    print(\"API response:\", client.url)"
   ]
  },
  {
   "cell_type": "code",
   "execution_count": 269,
   "id": "27d44101",
   "metadata": {},
   "outputs": [],
   "source": [
    "df_hdfc.to_csv(\"hdfc.csv\")"
   ]
  },
  {
   "cell_type": "code",
   "execution_count": 270,
   "id": "973bd730",
   "metadata": {},
   "outputs": [
    {
     "data": {
      "application/vnd.plotly.v1+json": {
       "config": {
        "plotlyServerURL": "https://plot.ly"
       },
       "data": [
        {
         "close": {
          "bdata": "AAAAAAAQn0AAAAAAAB2fQJqZmZmZTp9AmpmZmZkdn0BmZmZmZu2eQM3MzMzMx55AAAAAAAAwn0AzMzMzM9SeQJqZmZmZLZ9AAAAAAAD8nkBmZmZmZuKeQAAAAAAAIZ9AAAAAAABxn0DNzMzMzIqfQGZmZmZmpp9AMzMzMzOZn0AzMzMzM2CfQAAAAAAAUp9Akst/SP9jn0CDL0ymSo6fQPd14JwRR59Ad76fGu8sn0CGyVTBKIKeQGZmZmZmCp9AzczMzMwwn0AzMzMzMy2fQAAAAAAA/J5AMzMzMzP+nkDNzMzMzFmfQGZmZmZmap9AAAAAAABGn0AAAAAAAA2fQAAAAAAAFZ9AmpmZmZkGn0DNzMzMzAafQM3MzMzMb59AzczMzMxCn0CamZmZmXmfQAAAAAAAnJ9AzczMzMzwnkAAAAAAAKKeQDMzMzMzb55AzczMzMy2nkAzMzMzMzueQJqZmZmZN55AZmZmZmYmnkAzMzMzMzyeQAAAAAAA9Z1AzczMzMxXnkBmZmZmZnaeQJqZmZmZt55AZmZmZmbqnkDNzMzMzOqeQJqZmZmZe55AMzMzMzNTnkAAAAAAABWeQGZmZmZmM55AZmZmZmZinkCamZmZmSOeQDMzMzMzD55AmpmZmZkankDNzMzMzE+eQDMzMzMzNp5AAAAAAAABnkBmZmZmZhqeQGZmZmZm6Z1AzczMzMxKnkCamZmZmTaeQAAAAAAAN55AMzMzMzPbnUBmZmZmZgyeQDMzMzMzlp5AzczMzMyEnUAzMzMzMxmeQJqZmZmZYp5AMzMzMzMqnkCamZmZmUCeQDMzMzMzEp5AAAAAAAAPnkAAAAAAANGdQJqZmZmZ/Z1AZmZmZmbZnUBmZmZmZvGdQGZmZmZmDJ5AmpmZmZmnnkAzMzMzMx6eQDMzMzMzyp1AmpmZmZlXnUCamZmZmSOdQGZmZmZmOpxAAAAAAACWm0BmZmZmZqSbQJqZmZmZeJtAAAAAAABknEDNzMzMzAacQJqZmZmZFZxAMzMzMzOdm0AAAAAAAJKcQAAAAAAAhZxAzczMzMw3nEA=",
          "dtype": "f8"
         },
         "high": {
          "bdata": "mpmZmZkhn0BmZmZmZlefQGZmZmZmp59AmpmZmZkyn0DNzMzMzA+fQAAAAAAAMJ9AZmZmZmY5n0AzMzMzMyGfQDMzMzMzRp9AmpmZmZkQn0CamZmZmSWfQJqZmZmZi59AMzMzMzOun0AAAAAAALqfQDMzMzMz0Z9AMzMzMzOsn0AAAAAAAJSfQAAAAAAAfJ9AKxiV1Mm3n0Ay5q4lpKKfQIbJVMEoc59AMCqpE1A1n0CwA+eMKCOfQAAAAAAATJ9AmpmZmZmXn0AAAAAAAEyfQGZmZmZmFJ9AZmZmZmZTn0AAAAAAAIOfQAAAAAAAdZ9AZmZmZmZWn0BmZmZmZjifQAAAAAAAUZ9AmpmZmZlfn0AAAAAAAJCfQGZmZmZmfZ9AzczMzMx3n0AzMzMzM4+fQJqZmZmZrZ9AAAAAAAD4nkBmZmZmZuueQAAAAAAAlp5AmpmZmZnEnkAAAAAAAGieQM3MzMzMPp5AzczMzMxXnkAAAAAAAEueQDMzMzMzMp5AAAAAAACknkBmZmZmZrieQAAAAAAA/J5AzczMzMwnn0AzMzMzMzGfQM3MzMzMnZ5AMzMzMzNenkAzMzMzM4GeQM3MzMzMPp5AZmZmZmZynkAAAAAAAFOeQAAAAAAAOZ5AzczMzMxwnkCamZmZmXeeQM3MzMzMQ55AzczMzMwPnkCamZmZmWqeQDMzMzMzP55AAAAAAABknkCamZmZmVyeQGZmZmZmYJ5AzczMzMwonkAzMzMzM6meQAAAAAAAoJ5AAAAAAAD8nUAAAAAAAIyeQJqZmZmZcp5AzczMzMxNnkAAAAAAAICeQGZmZmZmV55AmpmZmZlBnkAAAAAAACSeQM3MzMzMJZ5AAAAAAAA0nkAAAAAAABCeQM3MzMzM555AmpmZmZnKnkAAAAAAAHieQGZmZmZm/Z1AMzMzMzNonUCamZmZmU+dQM3MzMzMa5xAmpmZmZm1m0AAAAAAANibQGZmZmZmzptAzczMzMzInEBmZmZmZi+cQDMzMzMzHZxAAAAAAABInECamZmZmbGcQAAAAAAAwpxAAAAAAACOnEA=",
          "dtype": "f8"
         },
         "low": {
          "bdata": "AAAAAADunkAzMzMzMwyfQM3MzMzMLZ9AzczMzMzOnkAAAAAAAMSeQJqZmZmZvp5AAAAAAADVnkAAAAAAAMieQDMzMzMz4Z5AZmZmZmbInkAAAAAAALyeQAAAAAAAEJ9AAAAAAABon0AAAAAAAGGfQM3MzMzMhZ9AAAAAAAA4n0CamZmZmUCfQDMzMzMzPJ9AidLe4AtQn0Cu2F92TzafQLsnDwu1N59ATRWMSirQnkDysFBrmnCeQDMzMzMz/J5AAAAAAAAkn0BmZmZmZtqeQDMzMzMzyp5AAAAAAAD4nkAzMzMzM0GfQJqZmZmZOJ9AAAAAAADonkCamZmZmf6eQM3MzMzM7J5AAAAAAAAAn0CamZmZmeWeQGZmZmZmTJ9AAAAAAAAsn0AzMzMzMySfQAAAAAAA8J5AmpmZmZmrnkAAAAAAAI2eQGZmZmZmWJ5AMzMzMzMvnkAAAAAAAByeQAAAAAAA+p1AMzMzMzP+nUAzMzMzMwCeQAAAAAAA2J1AmpmZmZk8nkAAAAAAAGyeQGZmZmZmpJ5AZmZmZmbhnkAzMzMzM1meQDMzMzMzU55AMzMzMzP0nUAAAAAAAACeQAAAAAAA0J1AZmZmZmYUnkBmZmZmZsydQAAAAAAA+J1AMzMzMzPwnUAzMzMzMxyeQGZmZmZm651AMzMzMzPGnUBmZmZmZgWeQM3MzMzM451AAAAAAAAtnkBmZmZmZiCeQAAAAAAApJ1AmpmZmZm8nUAAAAAAAAKeQAAAAAAA6J1AzczMzMx5nUBmZmZmZvidQDMzMzMzCZ5AAAAAAAAQnkAAAAAAADSeQGZmZmZmAp5AzczMzMzYnUAAAAAAALCdQM3MzMzM151AmpmZmZmPnUAzMzMzM76dQM3MzMzMAJ5AzczMzMw8nkBmZmZmZt6dQAAAAAAAV51AAAAAAAAUnUDNzMzMzPmcQAAAAAAAuJtAzczMzMxlm0BmZmZmZlqbQDMzMzMzKJtAzczMzMw/nEDNzMzMzMKbQDMzMzMznZtAAAAAAACUm0AAAAAAADucQM3MzMzMGpxAAAAAAAAqnEA=",
          "dtype": "f8"
         },
         "open": {
          "bdata": "AAAAAAAIn0AAAAAAADifQGZmZmZmVp9AzczMzMwWn0AzMzMzM/CeQGZmZmZmGZ9AAAAAAADVnkDNzMzMzBefQM3MzMzM755AAAAAAADMnkAAAAAAAAyfQAAAAAAAdJ9AAAAAAAB8n0AzMzMzM2yfQDMzMzMz0Z9AzczMzMxHn0AAAAAAAFqfQAAAAAAAeJ9AXrpJDAKwn0B/2T15mGSfQMbctYQ8VJ9ATRWMSirQnkAFNBE2PASfQDMzMzMzQJ9AzczMzMx4n0DNzMzMzOOeQDMzMzMz/p5AAAAAAAA0n0AzMzMzM3SfQM3MzMzMP59AAAAAAADonkDNzMzMzBSfQAAAAAAADJ9AmpmZmZkcn0AAAAAAAJCfQGZmZmZmTJ9AMzMzMzNgn0AAAAAAAHifQAAAAAAA8J5AZmZmZmbRnkDNzMzMzKCeQJqZmZmZaZ5AAAAAAAA6nkAAAAAAACmeQJqZmZmZB55AzczMzMxXnkAzMzMzMwCeQAAAAAAA2J1AAAAAAAB4nkAAAAAAALieQAAAAAAA/J5AMzMzMzMMn0CamZmZmWeeQAAAAAAAeJ5AMzMzMzP0nUAAAAAAAESeQAAAAAAAO55AZmZmZmYUnkBmZmZmZk+eQAAAAAAACJ5AzczMzMw3nkAAAAAAADSeQAAAAAAAAZ5AAAAAAADsnUCamZmZmRaeQAAAAAAAIJ5AmpmZmZlWnkAzMzMzMymeQJqZmZmZ2p1AzczMzMwPnkAzMzMzM2CeQAAAAAAAAJ5AmpmZmZnEnUAAAAAAAIyeQGZmZmZmKp5AzczMzMw/nkAzMzMzM0ueQAAAAAAAKJ5AzczMzMzpnUBmZmZmZhOeQAAAAAAA2J1AMzMzMzMInkDNzMzMzN+dQDMzMzMzxZ5AAAAAAABQnkAzMzMzMwieQDMzMzMzXJ1AAAAAAABonUCamZmZmTidQAAAAAAAuJtAAAAAAACfm0BmZmZmZpCbQAAAAAAAgJtAAAAAAABAnEAzMzMzM8ybQDMzMzMznZtAAAAAAAAgnEAAAAAAAJicQAAAAAAAHpxAAAAAAACAnEA=",
          "dtype": "f8"
         },
         "type": "candlestick",
         "x": [
          "2025-08-20T00:00:00.000000000",
          "2025-08-19T00:00:00.000000000",
          "2025-08-18T00:00:00.000000000",
          "2025-08-14T00:00:00.000000000",
          "2025-08-13T00:00:00.000000000",
          "2025-08-12T00:00:00.000000000",
          "2025-08-11T00:00:00.000000000",
          "2025-08-08T00:00:00.000000000",
          "2025-08-07T00:00:00.000000000",
          "2025-08-06T00:00:00.000000000",
          "2025-08-05T00:00:00.000000000",
          "2025-08-04T00:00:00.000000000",
          "2025-08-01T00:00:00.000000000",
          "2025-07-31T00:00:00.000000000",
          "2025-07-30T00:00:00.000000000",
          "2025-07-29T00:00:00.000000000",
          "2025-07-28T00:00:00.000000000",
          "2025-07-25T00:00:00.000000000",
          "2025-07-24T00:00:00.000000000",
          "2025-07-23T00:00:00.000000000",
          "2025-07-22T00:00:00.000000000",
          "2025-07-21T00:00:00.000000000",
          "2025-07-18T00:00:00.000000000",
          "2025-07-17T00:00:00.000000000",
          "2025-07-16T00:00:00.000000000",
          "2025-07-15T00:00:00.000000000",
          "2025-07-14T00:00:00.000000000",
          "2025-07-11T00:00:00.000000000",
          "2025-07-10T00:00:00.000000000",
          "2025-07-09T00:00:00.000000000",
          "2025-07-08T00:00:00.000000000",
          "2025-07-07T00:00:00.000000000",
          "2025-07-04T00:00:00.000000000",
          "2025-07-03T00:00:00.000000000",
          "2025-07-02T00:00:00.000000000",
          "2025-07-01T00:00:00.000000000",
          "2025-06-30T00:00:00.000000000",
          "2025-06-27T00:00:00.000000000",
          "2025-06-26T00:00:00.000000000",
          "2025-06-25T00:00:00.000000000",
          "2025-06-24T00:00:00.000000000",
          "2025-06-23T00:00:00.000000000",
          "2025-06-20T00:00:00.000000000",
          "2025-06-19T00:00:00.000000000",
          "2025-06-18T00:00:00.000000000",
          "2025-06-17T00:00:00.000000000",
          "2025-06-16T00:00:00.000000000",
          "2025-06-13T00:00:00.000000000",
          "2025-06-12T00:00:00.000000000",
          "2025-06-11T00:00:00.000000000",
          "2025-06-10T00:00:00.000000000",
          "2025-06-09T00:00:00.000000000",
          "2025-06-06T00:00:00.000000000",
          "2025-06-05T00:00:00.000000000",
          "2025-06-04T00:00:00.000000000",
          "2025-06-03T00:00:00.000000000",
          "2025-06-02T00:00:00.000000000",
          "2025-05-30T00:00:00.000000000",
          "2025-05-29T00:00:00.000000000",
          "2025-05-28T00:00:00.000000000",
          "2025-05-27T00:00:00.000000000",
          "2025-05-26T00:00:00.000000000",
          "2025-05-23T00:00:00.000000000",
          "2025-05-22T00:00:00.000000000",
          "2025-05-21T00:00:00.000000000",
          "2025-05-20T00:00:00.000000000",
          "2025-05-19T00:00:00.000000000",
          "2025-05-16T00:00:00.000000000",
          "2025-05-15T00:00:00.000000000",
          "2025-05-14T00:00:00.000000000",
          "2025-05-13T00:00:00.000000000",
          "2025-05-12T00:00:00.000000000",
          "2025-05-09T00:00:00.000000000",
          "2025-05-08T00:00:00.000000000",
          "2025-05-07T00:00:00.000000000",
          "2025-05-06T00:00:00.000000000",
          "2025-05-05T00:00:00.000000000",
          "2025-05-02T00:00:00.000000000",
          "2025-04-30T00:00:00.000000000",
          "2025-04-29T00:00:00.000000000",
          "2025-04-28T00:00:00.000000000",
          "2025-04-25T00:00:00.000000000",
          "2025-04-24T00:00:00.000000000",
          "2025-04-23T00:00:00.000000000",
          "2025-04-22T00:00:00.000000000",
          "2025-04-21T00:00:00.000000000",
          "2025-04-17T00:00:00.000000000",
          "2025-04-16T00:00:00.000000000",
          "2025-04-15T00:00:00.000000000",
          "2025-04-11T00:00:00.000000000",
          "2025-04-09T00:00:00.000000000",
          "2025-04-08T00:00:00.000000000",
          "2025-04-07T00:00:00.000000000",
          "2025-04-04T00:00:00.000000000",
          "2025-04-03T00:00:00.000000000",
          "2025-04-02T00:00:00.000000000",
          "2025-04-01T00:00:00.000000000",
          "2025-03-28T00:00:00.000000000",
          "2025-03-27T00:00:00.000000000",
          "2025-03-26T00:00:00.000000000"
         ]
        }
       ],
       "layout": {
        "height": 800,
        "template": {
         "data": {
          "candlestick": [
           {
            "decreasing": {
             "line": {
              "color": "#000033"
             }
            },
            "increasing": {
             "line": {
              "color": "#000032"
             }
            },
            "type": "candlestick"
           }
          ],
          "contour": [
           {
            "colorscale": [
             [
              0,
              "#000011"
             ],
             [
              0.1111111111111111,
              "#000012"
             ],
             [
              0.2222222222222222,
              "#000013"
             ],
             [
              0.3333333333333333,
              "#000014"
             ],
             [
              0.4444444444444444,
              "#000015"
             ],
             [
              0.5555555555555556,
              "#000016"
             ],
             [
              0.6666666666666666,
              "#000017"
             ],
             [
              0.7777777777777778,
              "#000018"
             ],
             [
              0.8888888888888888,
              "#000019"
             ],
             [
              1,
              "#000020"
             ]
            ],
            "type": "contour"
           }
          ],
          "contourcarpet": [
           {
            "colorscale": [
             [
              0,
              "#000011"
             ],
             [
              0.1111111111111111,
              "#000012"
             ],
             [
              0.2222222222222222,
              "#000013"
             ],
             [
              0.3333333333333333,
              "#000014"
             ],
             [
              0.4444444444444444,
              "#000015"
             ],
             [
              0.5555555555555556,
              "#000016"
             ],
             [
              0.6666666666666666,
              "#000017"
             ],
             [
              0.7777777777777778,
              "#000018"
             ],
             [
              0.8888888888888888,
              "#000019"
             ],
             [
              1,
              "#000020"
             ]
            ],
            "type": "contourcarpet"
           }
          ],
          "heatmap": [
           {
            "colorscale": [
             [
              0,
              "#000011"
             ],
             [
              0.1111111111111111,
              "#000012"
             ],
             [
              0.2222222222222222,
              "#000013"
             ],
             [
              0.3333333333333333,
              "#000014"
             ],
             [
              0.4444444444444444,
              "#000015"
             ],
             [
              0.5555555555555556,
              "#000016"
             ],
             [
              0.6666666666666666,
              "#000017"
             ],
             [
              0.7777777777777778,
              "#000018"
             ],
             [
              0.8888888888888888,
              "#000019"
             ],
             [
              1,
              "#000020"
             ]
            ],
            "type": "heatmap"
           }
          ],
          "histogram2d": [
           {
            "colorscale": [
             [
              0,
              "#000011"
             ],
             [
              0.1111111111111111,
              "#000012"
             ],
             [
              0.2222222222222222,
              "#000013"
             ],
             [
              0.3333333333333333,
              "#000014"
             ],
             [
              0.4444444444444444,
              "#000015"
             ],
             [
              0.5555555555555556,
              "#000016"
             ],
             [
              0.6666666666666666,
              "#000017"
             ],
             [
              0.7777777777777778,
              "#000018"
             ],
             [
              0.8888888888888888,
              "#000019"
             ],
             [
              1,
              "#000020"
             ]
            ],
            "type": "histogram2d"
           }
          ],
          "icicle": [
           {
            "textfont": {
             "color": "white"
            },
            "type": "icicle"
           }
          ],
          "sankey": [
           {
            "textfont": {
             "color": "#000036"
            },
            "type": "sankey"
           }
          ],
          "scatter": [
           {
            "marker": {
             "line": {
              "width": 0
             }
            },
            "type": "scatter"
           }
          ],
          "table": [
           {
            "cells": {
             "fill": {
              "color": "#000038"
             },
             "font": {
              "color": "#000037"
             },
             "line": {
              "color": "#000039"
             }
            },
            "header": {
             "fill": {
              "color": "#000040"
             },
             "font": {
              "color": "#000036"
             },
             "line": {
              "color": "#000039"
             }
            },
            "type": "table"
           }
          ],
          "waterfall": [
           {
            "connector": {
             "line": {
              "color": "#000036",
              "width": 2
             }
            },
            "decreasing": {
             "marker": {
              "color": "#000033"
             }
            },
            "increasing": {
             "marker": {
              "color": "#000032"
             }
            },
            "totals": {
             "marker": {
              "color": "#000034"
             }
            },
            "type": "waterfall"
           }
          ]
         },
         "layout": {
          "coloraxis": {
           "colorscale": [
            [
             0,
             "#000011"
            ],
            [
             0.1111111111111111,
             "#000012"
            ],
            [
             0.2222222222222222,
             "#000013"
            ],
            [
             0.3333333333333333,
             "#000014"
            ],
            [
             0.4444444444444444,
             "#000015"
            ],
            [
             0.5555555555555556,
             "#000016"
            ],
            [
             0.6666666666666666,
             "#000017"
            ],
            [
             0.7777777777777778,
             "#000018"
            ],
            [
             0.8888888888888888,
             "#000019"
            ],
            [
             1,
             "#000020"
            ]
           ]
          },
          "colorscale": {
           "diverging": [
            [
             0,
             "#000021"
            ],
            [
             0.1,
             "#000022"
            ],
            [
             0.2,
             "#000023"
            ],
            [
             0.3,
             "#000024"
            ],
            [
             0.4,
             "#000025"
            ],
            [
             0.5,
             "#000026"
            ],
            [
             0.6,
             "#000027"
            ],
            [
             0.7,
             "#000028"
            ],
            [
             0.8,
             "#000029"
            ],
            [
             0.9,
             "#000030"
            ],
            [
             1,
             "#000031"
            ]
           ],
           "sequential": [
            [
             0,
             "#000011"
            ],
            [
             0.1111111111111111,
             "#000012"
            ],
            [
             0.2222222222222222,
             "#000013"
            ],
            [
             0.3333333333333333,
             "#000014"
            ],
            [
             0.4444444444444444,
             "#000015"
            ],
            [
             0.5555555555555556,
             "#000016"
            ],
            [
             0.6666666666666666,
             "#000017"
            ],
            [
             0.7777777777777778,
             "#000018"
            ],
            [
             0.8888888888888888,
             "#000019"
            ],
            [
             1,
             "#000020"
            ]
           ],
           "sequentialminus": [
            [
             0,
             "#000011"
            ],
            [
             0.1111111111111111,
             "#000012"
            ],
            [
             0.2222222222222222,
             "#000013"
            ],
            [
             0.3333333333333333,
             "#000014"
            ],
            [
             0.4444444444444444,
             "#000015"
            ],
            [
             0.5555555555555556,
             "#000016"
            ],
            [
             0.6666666666666666,
             "#000017"
            ],
            [
             0.7777777777777778,
             "#000018"
            ],
            [
             0.8888888888888888,
             "#000019"
            ],
            [
             1,
             "#000020"
            ]
           ]
          },
          "colorway": [
           "#000001",
           "#000002",
           "#000003",
           "#000004",
           "#000005",
           "#000006",
           "#000007",
           "#000008",
           "#000009",
           "#000010"
          ]
         }
        },
        "width": 1200
       }
      }
     },
     "metadata": {},
     "output_type": "display_data"
    }
   ],
   "source": [
    "fig2 = client.plot_chart(data=df_hdfc)\n",
    "fig2.show()"
   ]
  },
  {
   "cell_type": "markdown",
   "id": "381c444d",
   "metadata": {},
   "source": [
    "## Plot tesla data"
   ]
  },
  {
   "cell_type": "code",
   "execution_count": 271,
   "id": "bdfca013",
   "metadata": {},
   "outputs": [
    {
     "name": "stdout",
     "output_type": "stream",
     "text": [
      "No matches found or API error.\n"
     ]
    }
   ],
   "source": [
    "try:\n",
    "    result = client.symbol_search(company=\"Tesla\")\n",
    "    display(result)\n",
    "except KeyError:\n",
    "    print(\"No matches found or API error.\")"
   ]
  },
  {
   "cell_type": "code",
   "execution_count": 272,
   "id": "093986f6",
   "metadata": {},
   "outputs": [
    {
     "name": "stdout",
     "output_type": "stream",
     "text": [
      "No matches found or API error.\n",
      "Error fetching daily data for TSLA.\n"
     ]
    }
   ],
   "source": [
    "# Find the correct symbol for Tesla from the search results\n",
    "try:\n",
    "    search_df = client.symbol_search(company=\"Tesla\")\n",
    "    print(search_df[[\"1. symbol\", \"2. name\"]])\n",
    "except KeyError:\n",
    "    print(\"No matches found or API error.\")\n",
    "\n",
    "# Use the correct symbol, e.g., \"TSLA\" or \"TSLA.NASDAQ\"\n",
    "try:\n",
    "    df_tsla = client.get_daily_data(symbol=\"TSLA\")\n",
    "    df_tsla\n",
    "except KeyError:\n",
    "    print(\"Error fetching daily data for TSLA.\")"
   ]
  },
  {
   "cell_type": "code",
   "execution_count": 273,
   "id": "4e041c55",
   "metadata": {},
   "outputs": [],
   "source": [
    "df_tsla.to_csv(\"tsla.csv\")"
   ]
  },
  {
   "cell_type": "code",
   "execution_count": 274,
   "id": "9f148cda",
   "metadata": {},
   "outputs": [
    {
     "data": {
      "application/vnd.plotly.v1+json": {
       "config": {
        "plotlyServerURL": "https://plot.ly"
       },
       "data": [
        {
         "close": {
          "bdata": "ZmZmZmY+dEApXI/C9ZR0QMP1KFyP8nRAKVyPwvWodEDhehSuR/l0QK5H4XoUNnVAPQrXo3BNdUAUrkfhejB1QGZmZmZmmnRAuB6F61EkdEDD9Shcj/5zQOxRuB6FS3NAXI/C9ShUc0CuR+F6FOpyQLgehetRRHNAcT0K16Pwc0AzMzMzMxN0QD0K16NwWXRAKVyPwvXAc0DNzMzMzBRzQClcj8L1yHRA9ihcj8LBdECkcD0K14d0QGZmZmZmmnRAw/UoXI/2c0AfhetRuBp0QBSuR+F6bHNAZmZmZmbOc0Bcj8L1KJhzQFK4HoXrXXNArkfhehR+ckApXI/C9ZxyQNejcD0KX3JAmpmZmZm1c0BmZmZmZrpzQI/C9Shcy3JAw/UoXI/ac0CuR+F6FDp0QBSuR+F6XHRAzczMzMx4dEDsUbgehUd1QHsUrkfhynVAw/UoXI8idEDNzMzMzCB0QJqZmZmZxXNArkfhehSSdEApXI/C9VR0QPYoXI/C8XNAexSuR+FmdEA9CtejcGF0QOF6FK5HSXNACtejcD1yckAzMzMzM8txQM3MzMzMwHRAuB6F61GEdUDXo3A9Cmt1QI/C9Shcp3VAexSuR+FmdkBmZmZmZk52QArXo3A9rnZAPQrXo3A1dUBxPQrXo1B1QFK4HoXr6XRAhetRuB59dUA9CtejcGF1QEjhehSu33VAhetRuB5tdUB7FK5H4bp1QIXrUbge4XRArkfhehTmc0Bcj8L1KKRyQIXrUbgezXFA7FG4HoVDcUCamZmZmTVxQFyPwvUohHFAj8L1KFzzcUC4HoXrUYhxQMP1KFyPonFAFK5H4XpAckCuR+F6FN5xQDMzMzMzz3FAXI/C9Sg4cEBI4XoUrldvQNejcD0Kv21AAAAAAABwbECkcD0K1ytuQJqZmZmZMW5A7FG4HoXDb0AzMzMzM4tvQFK4HoXriW9AzczMzMyMb0AzMzMzMwNxQOxRuB6Fu2tA4XoUrkcpbUD2KFyPwu1tQBSuR+F6tHBAXI/C9SiscUCPwvUoXMdwQMP1KFyPMnBAzczMzMx4cEA=",
          "dtype": "f8"
         },
         "high": {
          "bdata": "Urgeheu1dEDNzMzMzEh1QLgehetRBHVAzczMzMw0dUA/xty1hEd1QEjhehSuz3VAXI/C9SiUdUAK16NwPap1QGZmZmZm8nRAZmZmZmYmdEDsUbgehQd0QIenV8oyh3NA5BQdyeWBc0ApXI/C9VRzQFK4HoXrFXRAh6dXyjJHdEAAAAAAAGR0QKRwPQrXp3RArkfhehQ6dEBmZmZmZmJzQDMzMzMzA3VAat5xio72dEAAAAAAACB1QGZmZmZmrnRAPQrXo3BFdEAAAAAAADh0QDMzMzMzE3RAK/aX3ZMpdEA9CtejcKFzQEjhehSuZ3NAZmZmZmbCckAgQfFjzABzQGZmZmZmgnJAMzMzMzPnc0BaZDvfT81zQArXo3A9HnNANe84RUdZdECGONbFbZV0QM3MzMzMsHRAAAAAAABwdUBcj8L1KER2QHE9CtejWHZA9ihcj8LFdECF61G4HpV0QFyPwvUodHRAzczMzMzAdECkcD0K1890QClcj8L1yHRAAAAAAAD4dEDhehSuR310QOF6FK5HXXNAAAAAAAAYc0AgQfFjzEh0QJqZmZmZmXVAZmZmZmY2dkC4HoXrUcB1QHsUrkfhunZAj8L1KFz7dkAAAAAAANB2QHE9CtejvHZAexSuR+FydUC4HoXrUbR1QJqZmZmZtXVA9+RhodYvdkAAAAAAAHB1QFK4HoXr+XVAUwWjkjqidUAAAAAAAOB1QDPEsS5uGXVAj8L1KFwjdEBxPQrXozBzQM3MzMzMHHJAH4XrUbhecUBI4XoUrltxQN0kBoGVzXFAFK5H4XpsckA9LNSa5i1yQDMzMzMzx3FAhetRuB5VckD2KFyPwm1yQJqZmZmZ7XFAcT0K16M4cECHp1fKMjdwQOF6FK5HWW5AH4XrUbgGbUB7FK5H4YpuQNejcD0Kf29AAAAAAAAscEDNzMzMzFxwQKRwPQrXG3BApHA9CtdncEDXo3A9CitxQK5H4XoUTm9AAAAAAACAb0AAAAAAAFBwQM3MzMzMRHFApHA9CtfPcUAzMzMzM1dxQClcj8L1SHBAmpmZmZlBcUA=",
          "dtype": "f8"
         },
         "low": {
          "bdata": "mpmZmZmpc0CamZmZmX10QD0K16NwmXRAuB6F61FwdEBmZmZmZqZ0QDMzMzMzI3VA16NwPQrPdEBmZmZmZuJ0QEjhehSuD3RAw/UoXI/Cc0DLoUW28y5zQAAAAAAAGHNArIvbaADwckCF61G4Hp1yQJqZmZmZIXNAEhQ/xtx5c0AAAAAAAORzQNejcD0Ku3NAXI/C9ShAc0DD9Shcj8ZyQB+F61G4inRAzczMzMwYdECuR+F6FG50QB+F61G4FnRA1edqK/bQc0BSuB6F64lzQAAAAAAAaHNAH4XrUbiKc0BmZmZmZhpzQAAAAAAAwHJAzczMzMxYckCamZmZmWVyQGWqYFRSDHJAXI/C9SiMc0CF61G4Hv1yQI/C9ShcU3JAmpmZmZnJc0BSuB6F69dzQPYoXI/COXRAZmZmZmYGdEDXo3A9Ckd1QEjhehSud3RAFK5H4Xrcc0AzMzMzM7dzQKRwPQrXq3NAw/UoXI9mdEDNzMzMzJRzQPYoXI/CzXNAAAAAAAAodEDpJjEIrGpzQJqZmZmZnXFACtejcD0yckCPwvUoXBNxQEXY8PRKdXRAcT0K16NwdUDhehSuR9V0QHE9CtejlHVAAAAAAABAdkDD9Shcjz52QIXrUbgetXVAj8L1KFzTdEAK16NwPbZ0QDMzMzMzw3RArkfhehRadUBSuB6F69V0QOF6FK5HZXVAQ61p3nHrdEAAAAAAABB1QM3MzMzMzHNAAAAAAAB4c0AAAAAAACByQMP1KFyPdnFAAAAAAADwcECamZmZmfVwQGZmZmZmJnFAKVyPwvV8cUApXI/C9XxxQBSuR+F67HBAjZduEoN3cUAfhetRuAZxQK5H4XoUOnBAZmZmZmYmb0D2KFyPwo1uQIxK6gQ0u2xA4XoUrkfZa0BrK/aX3bVtQBSuR+F6PG1A4XoUrkfxbkD2KFyPwr1uQP32deCcK25Aw/UoXI/qbUBcj8L1KPxrQJqZmZmZOWtAAAAAAADIakAAAAAAAIBtQFyPwvUoWHBAcT0K16Nob0AAAAAAADRwQERpb/CFa25AhetRuB5JcEA=",
          "dtype": "f8"
         },
         "open": {
          "bdata": "7FG4HoWTdEBxPQrXo/x0QFK4HoXrmXRAFK5H4XoadUBcj8L1KPx0QAAAAAAAWHVAAAAAAACQdUAAAAAAAPB0QHsUrkfhFnRAcT0K16P8c0AK16NwPT5zQDMzMzMzT3NA4XoUrkdRc0DhehSuRyNzQEjhehSu+XNAexSuR+EidEDNzMzMzFh0QDMzMzMz53NApHA9CtdLc0AAAAAAAGBzQGZmZmZmrnRApHA9CtebdEBmZmZmZuZ0QMP1KFyPGnRAZmZmZmYydEDNzMzMzIxzQM3MzMzM+nNASOF6FK7bc0AK16NwPT5zQM3MzMzMwHJAzczMzMyYckAAAAAAAJByQFK4HoXrNXJApHA9Ctffc0CuR+F6FIpzQI/C9Shcp3JAZmZmZmb+c0Bcj8L1KEh0QPYoXI/CSXRAMzMzMzNrdUAfhetRuEJ2QHE9CtejeHRAMzMzMzN/dEApXI/C9dRzQD0K16NwYXRAcT0K16O0dEDsUbgehZ9zQDMzMzMzMXRAuB6F61HmdEDXo3A9Cq9zQOF6FK5H33FA4XoUrketckCkcD0K1yd0QOxRuB6FkXVA7FG4HoWpdUAAAAAAAHh1QLgehetROHZAcT0K16PUdkA9CtejcM12QJqZmZmZtXVAH4XrUbgedUBmZmZmZr50QHsUrkfhhnVAUrgeheu9dUDNzMzMzAR1QKRwPQrXo3VAPQrXo3BFdUAAAAAAAGh1QAAAAAAAAHRApHA9CtcfdECPwvUoXCNyQK5H4XoUenFArkfhehROcUBI4XoUrhFxQIXrUbgeyXFAZmZmZmbOcUBcj8L1KIBxQGZmZmZmfnFAAAAAAADYcUBI4XoUrg9yQNejcD0KW3BAAAAAAABQb0DsUbgehdtvQB+F61G43mxAuB6F61HIbEDXo3A9Cm9uQOxRuB6F825AhetRuB49b0D2KFyPwiVwQHsUrkfhem9AAAAAAABAcECuR+F6FBZsQAAAAAAAoG5AKVyPwvX4a0Bcj8L1KOxvQHE9CtejlHBAMzMzMzPTb0DNzMzMzHxwQFK4HoXrKW9AMzMzMzM5cUA=",
          "dtype": "f8"
         },
         "type": "candlestick",
         "x": [
          "2025-08-20T00:00:00.000000000",
          "2025-08-19T00:00:00.000000000",
          "2025-08-18T00:00:00.000000000",
          "2025-08-15T00:00:00.000000000",
          "2025-08-14T00:00:00.000000000",
          "2025-08-13T00:00:00.000000000",
          "2025-08-12T00:00:00.000000000",
          "2025-08-11T00:00:00.000000000",
          "2025-08-08T00:00:00.000000000",
          "2025-08-07T00:00:00.000000000",
          "2025-08-06T00:00:00.000000000",
          "2025-08-05T00:00:00.000000000",
          "2025-08-04T00:00:00.000000000",
          "2025-08-01T00:00:00.000000000",
          "2025-07-31T00:00:00.000000000",
          "2025-07-30T00:00:00.000000000",
          "2025-07-29T00:00:00.000000000",
          "2025-07-28T00:00:00.000000000",
          "2025-07-25T00:00:00.000000000",
          "2025-07-24T00:00:00.000000000",
          "2025-07-23T00:00:00.000000000",
          "2025-07-22T00:00:00.000000000",
          "2025-07-21T00:00:00.000000000",
          "2025-07-18T00:00:00.000000000",
          "2025-07-17T00:00:00.000000000",
          "2025-07-16T00:00:00.000000000",
          "2025-07-15T00:00:00.000000000",
          "2025-07-14T00:00:00.000000000",
          "2025-07-11T00:00:00.000000000",
          "2025-07-10T00:00:00.000000000",
          "2025-07-09T00:00:00.000000000",
          "2025-07-08T00:00:00.000000000",
          "2025-07-07T00:00:00.000000000",
          "2025-07-03T00:00:00.000000000",
          "2025-07-02T00:00:00.000000000",
          "2025-07-01T00:00:00.000000000",
          "2025-06-30T00:00:00.000000000",
          "2025-06-27T00:00:00.000000000",
          "2025-06-26T00:00:00.000000000",
          "2025-06-25T00:00:00.000000000",
          "2025-06-24T00:00:00.000000000",
          "2025-06-23T00:00:00.000000000",
          "2025-06-20T00:00:00.000000000",
          "2025-06-18T00:00:00.000000000",
          "2025-06-17T00:00:00.000000000",
          "2025-06-16T00:00:00.000000000",
          "2025-06-13T00:00:00.000000000",
          "2025-06-12T00:00:00.000000000",
          "2025-06-11T00:00:00.000000000",
          "2025-06-10T00:00:00.000000000",
          "2025-06-09T00:00:00.000000000",
          "2025-06-06T00:00:00.000000000",
          "2025-06-05T00:00:00.000000000",
          "2025-06-04T00:00:00.000000000",
          "2025-06-03T00:00:00.000000000",
          "2025-06-02T00:00:00.000000000",
          "2025-05-30T00:00:00.000000000",
          "2025-05-29T00:00:00.000000000",
          "2025-05-28T00:00:00.000000000",
          "2025-05-27T00:00:00.000000000",
          "2025-05-23T00:00:00.000000000",
          "2025-05-22T00:00:00.000000000",
          "2025-05-21T00:00:00.000000000",
          "2025-05-20T00:00:00.000000000",
          "2025-05-19T00:00:00.000000000",
          "2025-05-16T00:00:00.000000000",
          "2025-05-15T00:00:00.000000000",
          "2025-05-14T00:00:00.000000000",
          "2025-05-13T00:00:00.000000000",
          "2025-05-12T00:00:00.000000000",
          "2025-05-09T00:00:00.000000000",
          "2025-05-08T00:00:00.000000000",
          "2025-05-07T00:00:00.000000000",
          "2025-05-06T00:00:00.000000000",
          "2025-05-05T00:00:00.000000000",
          "2025-05-02T00:00:00.000000000",
          "2025-05-01T00:00:00.000000000",
          "2025-04-30T00:00:00.000000000",
          "2025-04-29T00:00:00.000000000",
          "2025-04-28T00:00:00.000000000",
          "2025-04-25T00:00:00.000000000",
          "2025-04-24T00:00:00.000000000",
          "2025-04-23T00:00:00.000000000",
          "2025-04-22T00:00:00.000000000",
          "2025-04-21T00:00:00.000000000",
          "2025-04-17T00:00:00.000000000",
          "2025-04-16T00:00:00.000000000",
          "2025-04-15T00:00:00.000000000",
          "2025-04-14T00:00:00.000000000",
          "2025-04-11T00:00:00.000000000",
          "2025-04-10T00:00:00.000000000",
          "2025-04-09T00:00:00.000000000",
          "2025-04-08T00:00:00.000000000",
          "2025-04-07T00:00:00.000000000",
          "2025-04-04T00:00:00.000000000",
          "2025-04-03T00:00:00.000000000",
          "2025-04-02T00:00:00.000000000",
          "2025-04-01T00:00:00.000000000",
          "2025-03-31T00:00:00.000000000",
          "2025-03-28T00:00:00.000000000"
         ]
        }
       ],
       "layout": {
        "height": 800,
        "template": {
         "data": {
          "candlestick": [
           {
            "decreasing": {
             "line": {
              "color": "#000033"
             }
            },
            "increasing": {
             "line": {
              "color": "#000032"
             }
            },
            "type": "candlestick"
           }
          ],
          "contour": [
           {
            "colorscale": [
             [
              0,
              "#000011"
             ],
             [
              0.1111111111111111,
              "#000012"
             ],
             [
              0.2222222222222222,
              "#000013"
             ],
             [
              0.3333333333333333,
              "#000014"
             ],
             [
              0.4444444444444444,
              "#000015"
             ],
             [
              0.5555555555555556,
              "#000016"
             ],
             [
              0.6666666666666666,
              "#000017"
             ],
             [
              0.7777777777777778,
              "#000018"
             ],
             [
              0.8888888888888888,
              "#000019"
             ],
             [
              1,
              "#000020"
             ]
            ],
            "type": "contour"
           }
          ],
          "contourcarpet": [
           {
            "colorscale": [
             [
              0,
              "#000011"
             ],
             [
              0.1111111111111111,
              "#000012"
             ],
             [
              0.2222222222222222,
              "#000013"
             ],
             [
              0.3333333333333333,
              "#000014"
             ],
             [
              0.4444444444444444,
              "#000015"
             ],
             [
              0.5555555555555556,
              "#000016"
             ],
             [
              0.6666666666666666,
              "#000017"
             ],
             [
              0.7777777777777778,
              "#000018"
             ],
             [
              0.8888888888888888,
              "#000019"
             ],
             [
              1,
              "#000020"
             ]
            ],
            "type": "contourcarpet"
           }
          ],
          "heatmap": [
           {
            "colorscale": [
             [
              0,
              "#000011"
             ],
             [
              0.1111111111111111,
              "#000012"
             ],
             [
              0.2222222222222222,
              "#000013"
             ],
             [
              0.3333333333333333,
              "#000014"
             ],
             [
              0.4444444444444444,
              "#000015"
             ],
             [
              0.5555555555555556,
              "#000016"
             ],
             [
              0.6666666666666666,
              "#000017"
             ],
             [
              0.7777777777777778,
              "#000018"
             ],
             [
              0.8888888888888888,
              "#000019"
             ],
             [
              1,
              "#000020"
             ]
            ],
            "type": "heatmap"
           }
          ],
          "histogram2d": [
           {
            "colorscale": [
             [
              0,
              "#000011"
             ],
             [
              0.1111111111111111,
              "#000012"
             ],
             [
              0.2222222222222222,
              "#000013"
             ],
             [
              0.3333333333333333,
              "#000014"
             ],
             [
              0.4444444444444444,
              "#000015"
             ],
             [
              0.5555555555555556,
              "#000016"
             ],
             [
              0.6666666666666666,
              "#000017"
             ],
             [
              0.7777777777777778,
              "#000018"
             ],
             [
              0.8888888888888888,
              "#000019"
             ],
             [
              1,
              "#000020"
             ]
            ],
            "type": "histogram2d"
           }
          ],
          "icicle": [
           {
            "textfont": {
             "color": "white"
            },
            "type": "icicle"
           }
          ],
          "sankey": [
           {
            "textfont": {
             "color": "#000036"
            },
            "type": "sankey"
           }
          ],
          "scatter": [
           {
            "marker": {
             "line": {
              "width": 0
             }
            },
            "type": "scatter"
           }
          ],
          "table": [
           {
            "cells": {
             "fill": {
              "color": "#000038"
             },
             "font": {
              "color": "#000037"
             },
             "line": {
              "color": "#000039"
             }
            },
            "header": {
             "fill": {
              "color": "#000040"
             },
             "font": {
              "color": "#000036"
             },
             "line": {
              "color": "#000039"
             }
            },
            "type": "table"
           }
          ],
          "waterfall": [
           {
            "connector": {
             "line": {
              "color": "#000036",
              "width": 2
             }
            },
            "decreasing": {
             "marker": {
              "color": "#000033"
             }
            },
            "increasing": {
             "marker": {
              "color": "#000032"
             }
            },
            "totals": {
             "marker": {
              "color": "#000034"
             }
            },
            "type": "waterfall"
           }
          ]
         },
         "layout": {
          "coloraxis": {
           "colorscale": [
            [
             0,
             "#000011"
            ],
            [
             0.1111111111111111,
             "#000012"
            ],
            [
             0.2222222222222222,
             "#000013"
            ],
            [
             0.3333333333333333,
             "#000014"
            ],
            [
             0.4444444444444444,
             "#000015"
            ],
            [
             0.5555555555555556,
             "#000016"
            ],
            [
             0.6666666666666666,
             "#000017"
            ],
            [
             0.7777777777777778,
             "#000018"
            ],
            [
             0.8888888888888888,
             "#000019"
            ],
            [
             1,
             "#000020"
            ]
           ]
          },
          "colorscale": {
           "diverging": [
            [
             0,
             "#000021"
            ],
            [
             0.1,
             "#000022"
            ],
            [
             0.2,
             "#000023"
            ],
            [
             0.3,
             "#000024"
            ],
            [
             0.4,
             "#000025"
            ],
            [
             0.5,
             "#000026"
            ],
            [
             0.6,
             "#000027"
            ],
            [
             0.7,
             "#000028"
            ],
            [
             0.8,
             "#000029"
            ],
            [
             0.9,
             "#000030"
            ],
            [
             1,
             "#000031"
            ]
           ],
           "sequential": [
            [
             0,
             "#000011"
            ],
            [
             0.1111111111111111,
             "#000012"
            ],
            [
             0.2222222222222222,
             "#000013"
            ],
            [
             0.3333333333333333,
             "#000014"
            ],
            [
             0.4444444444444444,
             "#000015"
            ],
            [
             0.5555555555555556,
             "#000016"
            ],
            [
             0.6666666666666666,
             "#000017"
            ],
            [
             0.7777777777777778,
             "#000018"
            ],
            [
             0.8888888888888888,
             "#000019"
            ],
            [
             1,
             "#000020"
            ]
           ],
           "sequentialminus": [
            [
             0,
             "#000011"
            ],
            [
             0.1111111111111111,
             "#000012"
            ],
            [
             0.2222222222222222,
             "#000013"
            ],
            [
             0.3333333333333333,
             "#000014"
            ],
            [
             0.4444444444444444,
             "#000015"
            ],
            [
             0.5555555555555556,
             "#000016"
            ],
            [
             0.6666666666666666,
             "#000017"
            ],
            [
             0.7777777777777778,
             "#000018"
            ],
            [
             0.8888888888888888,
             "#000019"
            ],
            [
             1,
             "#000020"
            ]
           ]
          },
          "colorway": [
           "#000001",
           "#000002",
           "#000003",
           "#000004",
           "#000005",
           "#000006",
           "#000007",
           "#000008",
           "#000009",
           "#000010"
          ]
         }
        },
        "width": 1200
       }
      }
     },
     "metadata": {},
     "output_type": "display_data"
    }
   ],
   "source": [
    "fig3 = client.plot_chart(data=df_tsla)\n",
    "fig3.show()"
   ]
  }
 ],
 "metadata": {
  "kernelspec": {
   "display_name": "Stock.market_Project",
   "language": "python",
   "name": "python3"
  },
  "language_info": {
   "codemirror_mode": {
    "name": "ipython",
    "version": 3
   },
   "file_extension": ".py",
   "mimetype": "text/x-python",
   "name": "python",
   "nbconvert_exporter": "python",
   "pygments_lexer": "ipython3",
   "version": "3.13.7"
  }
 },
 "nbformat": 4,
 "nbformat_minor": 5
}
